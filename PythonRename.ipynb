{
 "cells": [
  {
   "cell_type": "code",
   "execution_count": 32,
   "metadata": {},
   "outputs": [],
   "source": [
    "import os"
   ]
  },
  {
   "cell_type": "code",
   "execution_count": 5,
   "metadata": {},
   "outputs": [],
   "source": [
    "os.chdir('C:/Users/emaem/OneDrive/Desktop/6806CS/6806 zoom')"
   ]
  },
  {
   "cell_type": "code",
   "execution_count": 6,
   "metadata": {},
   "outputs": [
    {
     "name": "stdout",
     "output_type": "stream",
     "text": [
      "C:\\Users\\emaem\\OneDrive\\Desktop\\6806CS\\6806 zoom\n"
     ]
    }
   ],
   "source": [
    "print(os.getcwd())"
   ]
  },
  {
   "cell_type": "code",
   "execution_count": 35,
   "metadata": {},
   "outputs": [
    {
     "name": "stdout",
     "output_type": "stream",
     "text": [
      "Zoom - officehours - # 1.m4a\n",
      "Zoom - officehours - # 2.mp4\n",
      "Zoom - officehours - # 3.m4a\n",
      "Zoom - officehours - # 4.mp4\n",
      "Zoom - officehours - # 5.m4a\n",
      "Zoom - officehours - # 6.mp4\n",
      "Zoom - officehours - # 7.m4a\n",
      "Zoom - officehours - # 8.mp4\n"
     ]
    }
   ],
   "source": [
    "for f in os.listdir():\n",
    "    print(f)"
   ]
  },
  {
   "cell_type": "code",
   "execution_count": 36,
   "metadata": {},
   "outputs": [
    {
     "name": "stdout",
     "output_type": "stream",
     "text": [
      "('Zoom - officehours - # 1', '.m4a')\n",
      "('Zoom - officehours - # 2', '.mp4')\n",
      "('Zoom - officehours - # 3', '.m4a')\n",
      "('Zoom - officehours - # 4', '.mp4')\n",
      "('Zoom - officehours - # 5', '.m4a')\n",
      "('Zoom - officehours - # 6', '.mp4')\n",
      "('Zoom - officehours - # 7', '.m4a')\n",
      "('Zoom - officehours - # 8', '.mp4')\n"
     ]
    }
   ],
   "source": [
    "for f in os.listdir():\n",
    "    print(os.path.splitext(f))"
   ]
  },
  {
   "cell_type": "code",
   "execution_count": 37,
   "metadata": {},
   "outputs": [
    {
     "name": "stdout",
     "output_type": "stream",
     "text": [
      "Zoom - officehours - # 1\n",
      "Zoom - officehours - # 2\n",
      "Zoom - officehours - # 3\n",
      "Zoom - officehours - # 4\n",
      "Zoom - officehours - # 5\n",
      "Zoom - officehours - # 6\n",
      "Zoom - officehours - # 7\n",
      "Zoom - officehours - # 8\n"
     ]
    }
   ],
   "source": [
    "for f in os.listdir():\n",
    "    file_name, file_ext = os.path.splitext(f)\n",
    "    print(file_name)"
   ]
  },
  {
   "cell_type": "code",
   "execution_count": 38,
   "metadata": {},
   "outputs": [
    {
     "name": "stdout",
     "output_type": "stream",
     "text": [
      "['Zoom ', ' officehours ', ' # 1']\n",
      "['Zoom ', ' officehours ', ' # 2']\n",
      "['Zoom ', ' officehours ', ' # 3']\n",
      "['Zoom ', ' officehours ', ' # 4']\n",
      "['Zoom ', ' officehours ', ' # 5']\n",
      "['Zoom ', ' officehours ', ' # 6']\n",
      "['Zoom ', ' officehours ', ' # 7']\n",
      "['Zoom ', ' officehours ', ' # 8']\n"
     ]
    }
   ],
   "source": [
    "for f in os.listdir():\n",
    "    file_name, file_ext = os.path.splitext(f)\n",
    "    print(file_name.split('-'))"
   ]
  },
  {
   "cell_type": "code",
   "execution_count": 39,
   "metadata": {},
   "outputs": [
    {
     "name": "stdout",
     "output_type": "stream",
     "text": [
      "Zoom \n",
      "Zoom \n",
      "Zoom \n",
      "Zoom \n",
      "Zoom \n",
      "Zoom \n",
      "Zoom \n",
      "Zoom \n"
     ]
    }
   ],
   "source": [
    "for f in os.listdir():\n",
    "    file_name, file_ext = os.path.splitext(f)\n",
    "    \n",
    "    f_title, f_course, f_num = file_name.split('-')\n",
    "    print(f_title)"
   ]
  },
  {
   "cell_type": "code",
   "execution_count": 40,
   "metadata": {},
   "outputs": [
    {
     "name": "stdout",
     "output_type": "stream",
     "text": [
      " officehours \n",
      " officehours \n",
      " officehours \n",
      " officehours \n",
      " officehours \n",
      " officehours \n",
      " officehours \n",
      " officehours \n"
     ]
    }
   ],
   "source": [
    "for f in os.listdir():\n",
    "    file_name, file_ext = os.path.splitext(f)\n",
    "    \n",
    "    f_title, f_course, f_num = file_name.split('-')\n",
    "    print(f_course)"
   ]
  },
  {
   "cell_type": "code",
   "execution_count": 41,
   "metadata": {},
   "outputs": [
    {
     "name": "stdout",
     "output_type": "stream",
     "text": [
      " # 1\n",
      " # 2\n",
      " # 3\n",
      " # 4\n",
      " # 5\n",
      " # 6\n",
      " # 7\n",
      " # 8\n"
     ]
    }
   ],
   "source": [
    "for f in os.listdir():\n",
    "    file_name, file_ext = os.path.splitext(f)\n",
    "    \n",
    "    f_title, f_course, f_num = file_name.split('-')\n",
    "    print(f_num)"
   ]
  },
  {
   "cell_type": "code",
   "execution_count": 42,
   "metadata": {},
   "outputs": [
    {
     "name": "stdout",
     "output_type": "stream",
     "text": [
      " # 1- officehours -Zoom .m4a\n",
      " # 2- officehours -Zoom .mp4\n",
      " # 3- officehours -Zoom .m4a\n",
      " # 4- officehours -Zoom .mp4\n",
      " # 5- officehours -Zoom .m4a\n",
      " # 6- officehours -Zoom .mp4\n",
      " # 7- officehours -Zoom .m4a\n",
      " # 8- officehours -Zoom .mp4\n"
     ]
    }
   ],
   "source": [
    "for f in os.listdir():\n",
    "    f_name, f_ext = os.path.splitext(f)\n",
    "    \n",
    "    f_title, f_course, f_num = f_name.split('-')\n",
    "    \n",
    "    print('{}-{}-{}{}'.format(f_num, f_course, f_title, f_ext))"
   ]
  },
  {
   "cell_type": "code",
   "execution_count": 54,
   "metadata": {},
   "outputs": [
    {
     "name": "stdout",
     "output_type": "stream",
     "text": [
      "# 1 officehours Zoom\n",
      "# 2 officehours Zoom\n",
      "# 3 officehours Zoom\n",
      "# 4 officehours Zoom\n",
      "# 5 officehours Zoom\n",
      "# 6 officehours Zoom\n",
      "# 7 officehours Zoom\n",
      "# 8 officehours Zoom\n"
     ]
    }
   ],
   "source": [
    "# strip spaces between numbers.\n",
    "\n",
    "for f in os.listdir():\n",
    "    f_name, f_ext = os.path.splitext(f)\n",
    "    \n",
    "    f_title, f_course, f_num = f_name.split('-')\n",
    "\n",
    "    f_title = f_title.strip()\n",
    "    f_course = f_course.strip()\n",
    "    f_num = f_num.strip()\n",
    "    \n",
    "    print(f_num, f_course, f_title)"
   ]
  },
  {
   "cell_type": "code",
   "execution_count": 62,
   "metadata": {},
   "outputs": [
    {
     "name": "stdout",
     "output_type": "stream",
     "text": [
      " 1-officehours-Zoom.m4a\n",
      " 2-officehours-Zoom.mp4\n",
      " 3-officehours-Zoom.m4a\n",
      " 4-officehours-Zoom.mp4\n",
      " 5-officehours-Zoom.m4a\n",
      " 6-officehours-Zoom.mp4\n",
      " 7-officehours-Zoom.m4a\n",
      " 8-officehours-Zoom.mp4\n"
     ]
    }
   ],
   "source": [
    "for f in os.listdir():\n",
    "    f_name, f_ext = os.path.splitext(f)\n",
    "    \n",
    "    f_title, f_course, f_num = f_name.split('-')\n",
    "\n",
    "    f_title = f_title.strip()\n",
    "    f_course = f_course.strip()\n",
    "    f_num = f_num.strip()[1:]\n",
    "\n",
    "    print('{}-{}-{}{}'.format(f_num, f_course, f_title, f_ext))"
   ]
  },
  {
   "cell_type": "code",
   "execution_count": 25,
   "metadata": {},
   "outputs": [
    {
     "name": "stdout",
     "output_type": "stream",
     "text": [
      "4  # 1\n",
      "01-officehours-Zoom.m4a\n",
      "4  # 2\n",
      "02-officehours-Zoom.mp4\n",
      "4  # 3\n",
      "03-officehours-Zoom.m4a\n",
      "4  # 4\n",
      "04-officehours-Zoom.mp4\n",
      "4  # 5\n",
      "05-officehours-Zoom.m4a\n",
      "4  # 6\n",
      "06-officehours-Zoom.mp4\n",
      "4  # 7\n",
      "07-officehours-Zoom.m4a\n",
      "4  # 8\n",
      "08-officehours-Zoom.mp4\n"
     ]
    }
   ],
   "source": [
    "for f in os.listdir():\n",
    "    f_name, f_ext = os.path.splitext(f)\n",
    "    \n",
    "    f_title, f_course, f_num = f_name.split('-')\n",
    "\n",
    "    f_title = f_title.strip()\n",
    "    f_course = f_course.strip()\n",
    "    print(len(f_num), f_num)\n",
    "    f_num = f_num.replace('#','').strip()[0:].zfill(2)\n",
    "\n",
    "    print('{}-{}-{}{}'.format(f_num, f_course, f_title, f_ext))"
   ]
  },
  {
   "cell_type": "code",
   "execution_count": 26,
   "metadata": {},
   "outputs": [
    {
     "name": "stdout",
     "output_type": "stream",
     "text": [
      "4  # 1\n",
      "01-officehoursZoom\n",
      "4  # 2\n",
      "02-officehoursZoom\n",
      "4  # 3\n",
      "03-officehoursZoom\n",
      "4  # 4\n",
      "04-officehoursZoom\n",
      "4  # 5\n",
      "05-officehoursZoom\n",
      "4  # 6\n",
      "06-officehoursZoom\n",
      "4  # 7\n",
      "07-officehoursZoom\n",
      "4  # 8\n",
      "08-officehoursZoom\n"
     ]
    }
   ],
   "source": [
    "for f in os.listdir():\n",
    "    f_name, f_ext = os.path.splitext(f)\n",
    "    \n",
    "    f_title, f_course, f_num = f_name.split('-')\n",
    "\n",
    "    f_title = f_title.strip()\n",
    "    f_course = f_course.strip()\n",
    "    print(len(f_num), f_num)\n",
    "    f_num = f_num.replace('#','').strip()[0:].zfill(2)\n",
    "\n",
    "    print('{}-{}{}'.format(f_num, f_course, f_title, f_ext))"
   ]
  },
  {
   "cell_type": "code",
   "execution_count": 19,
   "metadata": {},
   "outputs": [
    {
     "name": "stdout",
     "output_type": "stream",
     "text": [
      "4  # 1\n",
      "Zoom officehours 01\n",
      "4  # 2\n",
      "Zoom officehours 02\n",
      "4  # 3\n",
      "Zoom officehours 03\n",
      "4  # 4\n",
      "Zoom officehours 04\n",
      "4  # 5\n",
      "Zoom officehours 05\n",
      "4  # 6\n",
      "Zoom officehours 06\n",
      "4  # 7\n",
      "Zoom officehours 07\n",
      "4  # 8\n",
      "Zoom officehours 08\n"
     ]
    }
   ],
   "source": [
    "import os\n",
    "\n",
    "for f in os.listdir():\n",
    "    f_name, f_ext = os.path.splitext(f)\n",
    "    f_title, f_course, f_num = f_name.split('-')\n",
    "    f_title = f_title.strip()\n",
    "    f_course = f_course.strip()\n",
    "    print(len(f_num), f_num)\n",
    "    f_num = f_num.replace('#','').strip()[0:].zfill(2)\n",
    "    print(f_title, f_course, f_num)"
   ]
  },
  {
   "cell_type": "code",
   "execution_count": 27,
   "metadata": {},
   "outputs": [
    {
     "name": "stdout",
     "output_type": "stream",
     "text": [
      "4  # 1\n",
      "4  # 2\n",
      "4  # 3\n",
      "4  # 4\n",
      "4  # 5\n",
      "4  # 6\n",
      "4  # 7\n",
      "4  # 8\n"
     ]
    }
   ],
   "source": [
    "for f in os.listdir():\n",
    "    f_name, f_ext = os.path.splitext(f)\n",
    "    \n",
    "    f_title, f_course, f_num = f_name.split('-')\n",
    "\n",
    "    f_title = f_title.strip()\n",
    "    f_course = f_course.strip()\n",
    "    print(len(f_num), f_num)\n",
    "    f_num = f_num.replace('#','').strip()[0:].zfill(2)\n",
    "\n",
    "    new_name = ('{}-{}{}'.format(f_num, f_title, f_ext))\n",
    "    \n",
    "    os.rename(f, new_name)"
   ]
  },
  {
   "cell_type": "code",
   "execution_count": null,
   "metadata": {},
   "outputs": [],
   "source": []
  }
 ],
 "metadata": {
  "kernelspec": {
   "display_name": "Python 3",
   "language": "python",
   "name": "python3"
  },
  "language_info": {
   "codemirror_mode": {
    "name": "ipython",
    "version": 3
   },
   "file_extension": ".py",
   "mimetype": "text/x-python",
   "name": "python",
   "nbconvert_exporter": "python",
   "pygments_lexer": "ipython3",
   "version": "3.8.3"
  }
 },
 "nbformat": 4,
 "nbformat_minor": 4
}
